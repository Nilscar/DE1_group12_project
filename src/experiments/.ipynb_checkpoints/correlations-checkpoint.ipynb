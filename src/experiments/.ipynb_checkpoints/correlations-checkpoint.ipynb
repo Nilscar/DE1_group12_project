{
 "cells": [
  {
   "cell_type": "markdown",
   "id": "399062a5",
   "metadata": {},
   "source": [
    "# Correlation experiment\n"
   ]
  },
  {
   "cell_type": "code",
   "execution_count": 8,
   "id": "fbc3a172",
   "metadata": {},
   "outputs": [],
   "source": [
    "from pyspark.sql import SparkSession\n",
    "import json"
   ]
  },
  {
   "cell_type": "code",
   "execution_count": 2,
   "id": "10b1e274",
   "metadata": {
    "scrolled": true
   },
   "outputs": [
    {
     "name": "stderr",
     "output_type": "stream",
     "text": [
      "Setting default log level to \"WARN\".\n",
      "To adjust logging level use sc.setLogLevel(newLevel). For SparkR, use setLogLevel(newLevel).\n"
     ]
    },
    {
     "name": "stdout",
     "output_type": "stream",
     "text": [
      "23/03/07 12:44:42 WARN NativeCodeLoader: Unable to load native-hadoop library for your platform... using builtin-java classes where applicable\n"
     ]
    }
   ],
   "source": [
    "# New API\n",
    "spark_session = SparkSession\\\n",
    "        .builder\\\n",
    "        .master(\"spark://sp-master:7077\") \\\n",
    "        .appName(\"correlation_experiment\")\\\n",
    "        .config(\"spark.dynamicAllocation.enabled\", True)\\\n",
    "        .config(\"spark.dynamicAllocation.shuffleTracking.enabled\",True)\\\n",
    "        .config(\"spark.shuffle.service.enabled\", False)\\\n",
    "        .config(\"spark.dynamicAllocation.executorIdleTimeout\",\"300s\")\\\n",
    "        .config(\"spark.executor.memory\",\"2g\")\\\n",
    "        .config(\"spark.executor.cores\",2)\\\n",
    "        .config(\"spark.driver.port\",9998)\\\n",
    "        .config(\"spark.blockManager.port\",10005)\\\n",
    "        .config(\"spark.shuffle.service.enabled\", \"false\")\\\n",
    "        .config(\"spark.dynamicAllocation.enabled\", \"false\")\\\n",
    "        .getOrCreate()"
   ]
  },
  {
   "cell_type": "markdown",
   "id": "ac0f8c7d",
   "metadata": {},
   "source": [
    "# Load data from HDFS"
   ]
  },
  {
   "cell_type": "code",
   "execution_count": 38,
   "id": "6f450a3f",
   "metadata": {},
   "outputs": [
    {
     "name": "stderr",
     "output_type": "stream",
     "text": [
      "                                                                                \r"
     ]
    }
   ],
   "source": [
    "json_lines = spark_session.sparkContext.textFile(\"hdfs://sp-master:9000/reddit_comment_data/RC_2011-01_small.json\")"
   ]
  },
  {
   "cell_type": "code",
   "execution_count": 50,
   "id": "d0d6ed29",
   "metadata": {
    "scrolled": true
   },
   "outputs": [
    {
     "data": {
      "text/plain": [
       "['{\"archived\":true,\"downs\":0,\"link_id\":\"t3_etyqc\",\"score_hidden\":false,\"id\":\"c1b06fp\",\"author_flair_css_class\":null,\"body\":\"They should add that to the instructions on the box :p\",\"ups\":1,\"distinguished\":null,\"gilded\":0,\"edited\":false,\"retrieved_on\":1426664469,\"parent_id\":\"t1_c1azvxa\",\"created_utc\":\"1293840000\",\"subreddit\":\"sex\",\"controversiality\":0,\"author_flair_text\":null,\"score\":1,\"name\":\"t1_c1b06fp\",\"author\":\"SandRider\",\"subreddit_id\":\"t5_2qh3p\"}']"
      ]
     },
     "execution_count": 50,
     "metadata": {},
     "output_type": "execute_result"
    }
   ],
   "source": [
    "json_lines.take(1)"
   ]
  },
  {
   "cell_type": "markdown",
   "id": "1da3685f",
   "metadata": {},
   "source": [
    "# Convert each line to JSON/Dictionary objects"
   ]
  },
  {
   "cell_type": "code",
   "execution_count": 51,
   "id": "b3b83095",
   "metadata": {},
   "outputs": [],
   "source": [
    "json_objs = json_lines.map(lambda line: json.loads(line))"
   ]
  },
  {
   "cell_type": "code",
   "execution_count": 52,
   "id": "3b5b0386",
   "metadata": {
    "scrolled": false
   },
   "outputs": [
    {
     "data": {
      "text/plain": [
       "[{'archived': True,\n",
       "  'downs': 0,\n",
       "  'link_id': 't3_etyqc',\n",
       "  'score_hidden': False,\n",
       "  'id': 'c1b06fp',\n",
       "  'author_flair_css_class': None,\n",
       "  'body': 'They should add that to the instructions on the box :p',\n",
       "  'ups': 1,\n",
       "  'distinguished': None,\n",
       "  'gilded': 0,\n",
       "  'edited': False,\n",
       "  'retrieved_on': 1426664469,\n",
       "  'parent_id': 't1_c1azvxa',\n",
       "  'created_utc': '1293840000',\n",
       "  'subreddit': 'sex',\n",
       "  'controversiality': 0,\n",
       "  'author_flair_text': None,\n",
       "  'score': 1,\n",
       "  'name': 't1_c1b06fp',\n",
       "  'author': 'SandRider',\n",
       "  'subreddit_id': 't5_2qh3p'}]"
      ]
     },
     "execution_count": 52,
     "metadata": {},
     "output_type": "execute_result"
    }
   ],
   "source": [
    "json_objs.take(1)"
   ]
  },
  {
   "cell_type": "markdown",
   "id": "412417ca",
   "metadata": {},
   "source": [
    "# Extract subreddit and author"
   ]
  },
  {
   "cell_type": "code",
   "execution_count": 162,
   "id": "bed08bf3",
   "metadata": {},
   "outputs": [],
   "source": [
    "# We also remove authors named \"[deleted]\" here.\n",
    "subreddit_and_author = json_objs.map(lambda obj: (obj[\"subreddit\"], obj[\"author\"]))\\\n",
    "    .filter(lambda sa: sa[1] != \"[deleted]\")"
   ]
  },
  {
   "cell_type": "code",
   "execution_count": 163,
   "id": "d7ea9e7b",
   "metadata": {
    "scrolled": true
   },
   "outputs": [
    {
     "data": {
      "text/plain": [
       "[('sex', 'SandRider'),\n",
       " ('relationship_advice', 'throwaway-o'),\n",
       " ('DebateAChristian', 'Basilides'),\n",
       " ('scifi', 'zachm'),\n",
       " ('Seattle', 'BarbieDreamHearse'),\n",
       " ('google', 'eroq'),\n",
       " ('gaming', 'ramp_tram'),\n",
       " ('gaming', 'RevLoki'),\n",
       " ('lists', 'xsvfan'),\n",
       " ('atheism', 'Helen_A_Handbasket'),\n",
       " ('funny', 'lanedek'),\n",
       " ('politics', 'mothereffingteresa'),\n",
       " ('netsec', 'grutz'),\n",
       " ('gaming', 'MainlandX'),\n",
       " ('Art', 'fricken'),\n",
       " ('techsupport', 'megadert'),\n",
       " ('beer', 'DamnJester'),\n",
       " ('funny', 'cole1114'),\n",
       " ('funny', 'broken189'),\n",
       " ('WTF', 'pi_over_3')]"
      ]
     },
     "execution_count": 163,
     "metadata": {},
     "output_type": "execute_result"
    }
   ],
   "source": [
    "subreddit_and_author.take(20)"
   ]
  },
  {
   "cell_type": "markdown",
   "id": "3ba18159",
   "metadata": {},
   "source": [
    "# Group authors by subreddit"
   ]
  },
  {
   "cell_type": "code",
   "execution_count": 164,
   "id": "b9d1f8d0",
   "metadata": {},
   "outputs": [],
   "source": [
    "grouped = subreddit_and_author.groupBy(lambda sa: sa[0])\\\n",
    "    .map(lambda sl: (sl[0], list(sl[1])))\\\n",
    "    .map(lambda sl: (sl[0], list(map(lambda t: t[1], sl[1]))))"
   ]
  },
  {
   "cell_type": "code",
   "execution_count": 166,
   "id": "786609aa",
   "metadata": {
    "scrolled": false
   },
   "outputs": [
    {
     "data": {
      "text/plain": [
       "[('relationship_advice', ['throwaway-o', 'throwaway-o', 'throwaway-o'])]"
      ]
     },
     "execution_count": 166,
     "metadata": {},
     "output_type": "execute_result"
    }
   ],
   "source": [
    "grouped.take(1)"
   ]
  },
  {
   "cell_type": "markdown",
   "id": "3e0f5d89",
   "metadata": {},
   "source": [
    "# Remove duplicate authors"
   ]
  },
  {
   "cell_type": "code",
   "execution_count": 167,
   "id": "8b4313d8",
   "metadata": {},
   "outputs": [],
   "source": [
    "grouped_authors = grouped.map(lambda sas: (sas[0], list(dict.fromkeys(sas[1]))))"
   ]
  },
  {
   "cell_type": "code",
   "execution_count": 172,
   "id": "736cdad3",
   "metadata": {
    "scrolled": true
   },
   "outputs": [
    {
     "data": {
      "text/plain": [
       "[('relationship_advice', ['throwaway-o'])]"
      ]
     },
     "execution_count": 172,
     "metadata": {},
     "output_type": "execute_result"
    }
   ],
   "source": [
    "grouped_authors.take(1)"
   ]
  },
  {
   "cell_type": "markdown",
   "id": "7c481c0f",
   "metadata": {},
   "source": [
    "# Compare subreddit users to all other subreddits and find out which subreddits have the most users in common\n",
    "\n",
    "Data format: (subreddit1, subreddit2, same_authors 1000)"
   ]
  },
  {
   "cell_type": "code",
   "execution_count": 206,
   "id": "43b552be",
   "metadata": {},
   "outputs": [],
   "source": [
    "sorted_by_popularity = grouped_authors.sortBy(lambda sas: len(sas[1]), False)\n",
    "sorted_by_popularity_copy = sorted_by_popularity"
   ]
  },
  {
   "cell_type": "code",
   "execution_count": 212,
   "id": "02905a05",
   "metadata": {
    "scrolled": true
   },
   "outputs": [
    {
     "data": {
      "text/plain": [
       "('AskReddit',\n",
       " ['Peritract',\n",
       "  'Pooh_Bear',\n",
       "  'nannerpus',\n",
       "  'swaggerstagger',\n",
       "  'armchairnixon',\n",
       "  'heyfella',\n",
       "  'rockychunk',\n",
       "  'oniTony',\n",
       "  'monsterburg',\n",
       "  'Pudd1nPants',\n",
       "  'lostelf2207',\n",
       "  'peno_asslace',\n",
       "  'handsolo',\n",
       "  'midgeness',\n",
       "  'Pyorrhea',\n",
       "  'mobeat-rice',\n",
       "  'lucasritting',\n",
       "  'CarolinaDO',\n",
       "  'insomniafox',\n",
       "  'osama_bin_awesome',\n",
       "  'Ares__',\n",
       "  'alettuce',\n",
       "  'elshizzo',\n",
       "  'coffeeisblack',\n",
       "  'spaghettios',\n",
       "  'MyNameIsOhm',\n",
       "  'barefoot_yank',\n",
       "  'zerbey',\n",
       "  'garugaga',\n",
       "  'KibblesnBitts',\n",
       "  'MCA2142',\n",
       "  'rirj',\n",
       "  'Kancho_Ninja',\n",
       "  'talonverdugo',\n",
       "  'subtonix',\n",
       "  'bigtallsob',\n",
       "  'Marowak',\n",
       "  'dreamleaking',\n",
       "  'stargaze',\n",
       "  'uhadmeathello',\n",
       "  'DustyDGAF',\n",
       "  'rhambling',\n",
       "  'gibson85',\n",
       "  'marshmallowlolita',\n",
       "  'hereboy',\n",
       "  'Helen_A_Handbasket',\n",
       "  'kylepm',\n",
       "  'fm909',\n",
       "  'DomesticatedCreeper',\n",
       "  'halright',\n",
       "  'drinktobones',\n",
       "  'Malabo',\n",
       "  'batsignal_to_mars',\n",
       "  'tjfcu'])"
      ]
     },
     "execution_count": 212,
     "metadata": {},
     "output_type": "execute_result"
    }
   ],
   "source": [
    "sorted_by_popularity.take(2)[1]"
   ]
  },
  {
   "cell_type": "code",
   "execution_count": null,
   "id": "b130c9eb",
   "metadata": {},
   "outputs": [],
   "source": [
    "# for every subreddit\n",
    "# sorted_by_popularity.map(lambda sl: (sl[0], other_subreddit, count_common_users(list1, list2)))"
   ]
  }
 ],
 "metadata": {
  "kernelspec": {
   "display_name": "Python 3 (ipykernel)",
   "language": "python",
   "name": "python3"
  },
  "language_info": {
   "codemirror_mode": {
    "name": "ipython",
    "version": 3
   },
   "file_extension": ".py",
   "mimetype": "text/x-python",
   "name": "python",
   "nbconvert_exporter": "python",
   "pygments_lexer": "ipython3",
   "version": "3.10.6"
  }
 },
 "nbformat": 4,
 "nbformat_minor": 5
}
