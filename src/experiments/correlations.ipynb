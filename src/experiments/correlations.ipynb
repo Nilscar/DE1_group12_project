{
 "cells": [
  {
   "cell_type": "markdown",
   "id": "399062a5",
   "metadata": {},
   "source": [
    "# Correlation experiment\n"
   ]
  },
  {
   "cell_type": "code",
   "execution_count": 1,
   "id": "fbc3a172",
   "metadata": {},
   "outputs": [],
   "source": [
    "from pyspark.sql import SparkSession\n",
    "import json\n",
    "import time"
   ]
  },
  {
   "cell_type": "code",
   "execution_count": 2,
   "id": "10b1e274",
   "metadata": {
    "scrolled": true
   },
   "outputs": [
    {
     "name": "stderr",
     "output_type": "stream",
     "text": [
      "Setting default log level to \"WARN\".\n",
      "To adjust logging level use sc.setLogLevel(newLevel). For SparkR, use setLogLevel(newLevel).\n"
     ]
    },
    {
     "name": "stdout",
     "output_type": "stream",
     "text": [
      "23/03/08 09:34:21 WARN NativeCodeLoader: Unable to load native-hadoop library for your platform... using builtin-java classes where applicable\n"
     ]
    }
   ],
   "source": [
    "# New API\n",
    "spark_session = SparkSession\\\n",
    "        .builder\\\n",
    "        .master(\"spark://sp-master:7077\") \\\n",
    "        .appName(\"correlation_experiment\")\\\n",
    "        .config(\"spark.dynamicAllocation.enabled\", True)\\\n",
    "        .config(\"spark.dynamicAllocation.shuffleTracking.enabled\",True)\\\n",
    "        .config(\"spark.shuffle.service.enabled\", False)\\\n",
    "        .config(\"spark.dynamicAllocation.executorIdleTimeout\",\"300s\")\\\n",
    "        .config(\"spark.executor.memory\",\"2g\")\\\n",
    "        .config(\"spark.executor.cores\",2)\\\n",
    "        .config(\"spark.driver.port\",9998)\\\n",
    "        .config(\"spark.blockManager.port\",10005)\\\n",
    "        .config(\"spark.shuffle.service.enabled\", \"false\")\\\n",
    "        .config(\"spark.dynamicAllocation.enabled\", \"false\")\\\n",
    "        .getOrCreate()"
   ]
  },
  {
   "cell_type": "markdown",
   "id": "ac0f8c7d",
   "metadata": {},
   "source": [
    "# Load data from HDFS"
   ]
  },
  {
   "cell_type": "code",
   "execution_count": 3,
   "id": "6f450a3f",
   "metadata": {},
   "outputs": [],
   "source": [
    "json_lines = spark_session.sparkContext.textFile(\"hdfs://sp-master:9000/reddit_comment_data/RC_2011-01.json\")"
   ]
  },
  {
   "cell_type": "code",
   "execution_count": 4,
   "id": "d0d6ed29",
   "metadata": {
    "scrolled": false
   },
   "outputs": [
    {
     "name": "stderr",
     "output_type": "stream",
     "text": [
      "                                                                                \r"
     ]
    },
    {
     "data": {
      "text/plain": [
       "['{\"archived\":true,\"downs\":0,\"link_id\":\"t3_etyqc\",\"score_hidden\":false,\"id\":\"c1b06fp\",\"author_flair_css_class\":null,\"body\":\"They should add that to the instructions on the box :p\",\"ups\":1,\"distinguished\":null,\"gilded\":0,\"edited\":false,\"retrieved_on\":1426664469,\"parent_id\":\"t1_c1azvxa\",\"created_utc\":\"1293840000\",\"subreddit\":\"sex\",\"controversiality\":0,\"author_flair_text\":null,\"score\":1,\"name\":\"t1_c1b06fp\",\"author\":\"SandRider\",\"subreddit_id\":\"t5_2qh3p\"}']"
      ]
     },
     "execution_count": 4,
     "metadata": {},
     "output_type": "execute_result"
    }
   ],
   "source": [
    "json_lines.take(1)"
   ]
  },
  {
   "cell_type": "markdown",
   "id": "c0675dc2",
   "metadata": {},
   "source": [
    "# Start time measuring\n"
   ]
  },
  {
   "cell_type": "code",
   "execution_count": 5,
   "id": "4d980867",
   "metadata": {},
   "outputs": [],
   "source": [
    "start_time = time.time()"
   ]
  },
  {
   "cell_type": "markdown",
   "id": "1da3685f",
   "metadata": {},
   "source": [
    "# Convert each line to JSON/Dictionary objects"
   ]
  },
  {
   "cell_type": "code",
   "execution_count": 6,
   "id": "b3b83095",
   "metadata": {},
   "outputs": [],
   "source": [
    "json_objs = json_lines.map(lambda line: json.loads(line))"
   ]
  },
  {
   "cell_type": "code",
   "execution_count": 7,
   "id": "3b5b0386",
   "metadata": {
    "scrolled": false
   },
   "outputs": [
    {
     "name": "stderr",
     "output_type": "stream",
     "text": [
      "                                                                                \r"
     ]
    },
    {
     "data": {
      "text/plain": [
       "[{'archived': True,\n",
       "  'downs': 0,\n",
       "  'link_id': 't3_etyqc',\n",
       "  'score_hidden': False,\n",
       "  'id': 'c1b06fp',\n",
       "  'author_flair_css_class': None,\n",
       "  'body': 'They should add that to the instructions on the box :p',\n",
       "  'ups': 1,\n",
       "  'distinguished': None,\n",
       "  'gilded': 0,\n",
       "  'edited': False,\n",
       "  'retrieved_on': 1426664469,\n",
       "  'parent_id': 't1_c1azvxa',\n",
       "  'created_utc': '1293840000',\n",
       "  'subreddit': 'sex',\n",
       "  'controversiality': 0,\n",
       "  'author_flair_text': None,\n",
       "  'score': 1,\n",
       "  'name': 't1_c1b06fp',\n",
       "  'author': 'SandRider',\n",
       "  'subreddit_id': 't5_2qh3p'}]"
      ]
     },
     "execution_count": 7,
     "metadata": {},
     "output_type": "execute_result"
    }
   ],
   "source": [
    "json_objs.take(1)"
   ]
  },
  {
   "cell_type": "markdown",
   "id": "412417ca",
   "metadata": {},
   "source": [
    "# Extract subreddit and author"
   ]
  },
  {
   "cell_type": "code",
   "execution_count": 8,
   "id": "bed08bf3",
   "metadata": {},
   "outputs": [],
   "source": [
    "# We also remove authors named \"[deleted]\" here.\n",
    "subreddit_and_author = json_objs.map(lambda obj: (obj[\"subreddit\"], obj[\"author\"]))\\\n",
    "    .filter(lambda sa: sa[1] != \"[deleted]\")"
   ]
  },
  {
   "cell_type": "code",
   "execution_count": 9,
   "id": "d7ea9e7b",
   "metadata": {
    "scrolled": true
   },
   "outputs": [
    {
     "data": {
      "text/plain": [
       "[('sex', 'SandRider'),\n",
       " ('relationship_advice', 'throwaway-o'),\n",
       " ('DebateAChristian', 'Basilides'),\n",
       " ('scifi', 'zachm'),\n",
       " ('Seattle', 'BarbieDreamHearse'),\n",
       " ('google', 'eroq'),\n",
       " ('gaming', 'ramp_tram'),\n",
       " ('gaming', 'RevLoki'),\n",
       " ('lists', 'xsvfan'),\n",
       " ('atheism', 'Helen_A_Handbasket'),\n",
       " ('funny', 'lanedek'),\n",
       " ('politics', 'mothereffingteresa'),\n",
       " ('netsec', 'grutz'),\n",
       " ('gaming', 'MainlandX'),\n",
       " ('Art', 'fricken'),\n",
       " ('techsupport', 'megadert'),\n",
       " ('beer', 'DamnJester'),\n",
       " ('funny', 'cole1114'),\n",
       " ('funny', 'broken189'),\n",
       " ('WTF', 'pi_over_3')]"
      ]
     },
     "execution_count": 9,
     "metadata": {},
     "output_type": "execute_result"
    }
   ],
   "source": [
    "subreddit_and_author.take(20)"
   ]
  },
  {
   "cell_type": "markdown",
   "id": "3ba18159",
   "metadata": {},
   "source": [
    "# Group authors by subreddit"
   ]
  },
  {
   "cell_type": "code",
   "execution_count": 10,
   "id": "b9d1f8d0",
   "metadata": {},
   "outputs": [],
   "source": [
    "grouped = subreddit_and_author.groupBy(lambda sa: sa[0])\\\n",
    "    .map(lambda sl: (sl[0], list(sl[1])))\\\n",
    "    .map(lambda sl: (sl[0], list(map(lambda t: t[1], sl[1]))))"
   ]
  },
  {
   "cell_type": "code",
   "execution_count": 11,
   "id": "786609aa",
   "metadata": {
    "scrolled": true
   },
   "outputs": [],
   "source": [
    "#grouped.take(1)"
   ]
  },
  {
   "cell_type": "markdown",
   "id": "3e0f5d89",
   "metadata": {},
   "source": [
    "# Remove duplicate authors"
   ]
  },
  {
   "cell_type": "code",
   "execution_count": 12,
   "id": "8b4313d8",
   "metadata": {},
   "outputs": [],
   "source": [
    "grouped_authors = grouped.map(lambda sas: (sas[0], list(dict.fromkeys(sas[1]))))"
   ]
  },
  {
   "cell_type": "code",
   "execution_count": 13,
   "id": "736cdad3",
   "metadata": {
    "scrolled": true
   },
   "outputs": [],
   "source": [
    "#grouped_authors.take(1)"
   ]
  },
  {
   "cell_type": "markdown",
   "id": "7c481c0f",
   "metadata": {},
   "source": [
    "# Compare subreddit authors to all other subreddits and find out which subreddits have the most authors in common\n",
    "\n",
    "Data format: (subreddit1, subreddit2, same_authors 1000)"
   ]
  },
  {
   "cell_type": "code",
   "execution_count": 14,
   "id": "43b552be",
   "metadata": {},
   "outputs": [
    {
     "name": "stderr",
     "output_type": "stream",
     "text": [
      "                                                                                \r"
     ]
    }
   ],
   "source": [
    "sorted_by_popularity = grouped_authors.sortBy(lambda sas: len(sas[1]), False)"
   ]
  },
  {
   "cell_type": "code",
   "execution_count": 15,
   "id": "65a121ca",
   "metadata": {
    "scrolled": true
   },
   "outputs": [],
   "source": [
    "#sorted_by_popularity.take(1)"
   ]
  },
  {
   "cell_type": "code",
   "execution_count": 16,
   "id": "c12f59be",
   "metadata": {},
   "outputs": [],
   "source": [
    "# Returns the number of authors that are in both the author lists.\n",
    "def count_common_authors(author_list_1, author_list_2):\n",
    "    return len(set(author_list_1).intersection(author_list_2))"
   ]
  },
  {
   "cell_type": "code",
   "execution_count": 17,
   "id": "dfef1bdc",
   "metadata": {},
   "outputs": [
    {
     "name": "stderr",
     "output_type": "stream",
     "text": [
      "                                                                                \r"
     ]
    }
   ],
   "source": [
    "# Steps:\n",
    "# 1: cartesian with itself, gives us ((subreddit, authors), (subreddit, authors))\n",
    "# 2: filter to remove pairs where the subreddits are the same, eg. ((\"pics\", authors), (\"pics\", authors))\n",
    "# 3: map to get (subreddit1, subreddit2, common_authors)\n",
    "# 4 & 5: map to sort subreddit names and remove duplicates, i.e to remove \n",
    "#        (\"pics\", \"AskReddit\", common_authors) and (\"AskReddit\", \"pics\", common_authors)\n",
    "# 6: distinct to remove duplicates, i.e only one (\"AskReddit\", \"pics\", common_authors)\n",
    "# 7: sort by the number of common authors\n",
    "\n",
    "comparison_rdd = sorted_by_popularity.cartesian(sorted_by_popularity)\\\n",
    "    .filter(lambda pair: pair[0][0] != pair[1][0])\\\n",
    "    .map(lambda pair: (pair[0][0], pair[1][0], count_common_authors(pair[0][1], pair[1][1])))\\\n",
    "    .map(lambda triple: (sorted((triple[0], triple[1])), triple[2]))\\\n",
    "    .map(lambda pair: (pair[0][0], pair[0][1], pair[1]))\\\n",
    "    .distinct()\\\n",
    "    .sortBy(lambda tuple: tuple[2], False)"
   ]
  },
  {
   "cell_type": "markdown",
   "id": "1eb35672",
   "metadata": {},
   "source": [
    "# Results\n",
    "The pair of subreddits with the highest number of common authors commenting on the subreddits. The data can be used to indicate that users who are commenting on a specific subreddit are also likely to comment on the corresponding subreddit next to it."
   ]
  },
  {
   "cell_type": "code",
   "execution_count": 18,
   "id": "868f088d",
   "metadata": {
    "scrolled": true
   },
   "outputs": [
    {
     "name": "stderr",
     "output_type": "stream",
     "text": [
      "                                                                                \r"
     ]
    },
    {
     "data": {
      "text/plain": [
       "[('AskReddit', 'pics', 49188),\n",
       " ('AskReddit', 'reddit.com', 38486),\n",
       " ('pics', 'reddit.com', 37559),\n",
       " ('WTF', 'pics', 34574),\n",
       " ('funny', 'pics', 34421),\n",
       " ('AskReddit', 'WTF', 33569),\n",
       " ('AskReddit', 'funny', 32306),\n",
       " ('gaming', 'pics', 28104),\n",
       " ('AskReddit', 'gaming', 27741),\n",
       " ('WTF', 'reddit.com', 27499)]"
      ]
     },
     "execution_count": 18,
     "metadata": {},
     "output_type": "execute_result"
    }
   ],
   "source": [
    "comparison_rdd.take(10)"
   ]
  },
  {
   "cell_type": "markdown",
   "id": "c3fdc405",
   "metadata": {},
   "source": [
    "# Mesure end time"
   ]
  },
  {
   "cell_type": "code",
   "execution_count": 19,
   "id": "d0967b4f",
   "metadata": {},
   "outputs": [
    {
     "name": "stdout",
     "output_type": "stream",
     "text": [
      "Experiment took  424.98576164245605\n"
     ]
    }
   ],
   "source": [
    "end_time = time.time()\n",
    "duration = end_time - start_time\n",
    "print(\"Experiment took\", duration)"
   ]
  },
  {
   "cell_type": "code",
   "execution_count": 20,
   "id": "cf849163",
   "metadata": {},
   "outputs": [],
   "source": [
    "spark_session.stop()"
   ]
  }
 ],
 "metadata": {
  "kernelspec": {
   "display_name": "Python 3 (ipykernel)",
   "language": "python",
   "name": "python3"
  },
  "language_info": {
   "codemirror_mode": {
    "name": "ipython",
    "version": 3
   },
   "file_extension": ".py",
   "mimetype": "text/x-python",
   "name": "python",
   "nbconvert_exporter": "python",
   "pygments_lexer": "ipython3",
   "version": "3.10.6"
  }
 },
 "nbformat": 4,
 "nbformat_minor": 5
}
